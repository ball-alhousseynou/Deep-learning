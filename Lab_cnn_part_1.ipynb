{
  "nbformat": 4,
  "nbformat_minor": 0,
  "metadata": {
    "kernelspec": {
      "display_name": "Python 3",
      "language": "python",
      "name": "python3"
    },
    "language_info": {
      "codemirror_mode": {
        "name": "ipython",
        "version": 3
      },
      "file_extension": ".py",
      "mimetype": "text/x-python",
      "name": "python",
      "nbconvert_exporter": "python",
      "pygments_lexer": "ipython3",
      "version": "3.7.4"
    },
    "colab": {
      "name": "tp_deep_learning_cnn_part_1_for_students.ipynb",
      "provenance": [],
      "collapsed_sections": []
    }
  },
  "cells": [
    {
      "cell_type": "markdown",
      "metadata": {
        "id": "1NVX2ny6_c20",
        "colab_type": "text"
      },
      "source": [
        "# TP Coding Convolutional Neural Networks in tensorflow and keras\n",
        "\n",
        "TP author : Geoffroy Peeters, Alasdair Newson\n",
        "\n",
        "### Objective:\n",
        "\n",
        "We want to implement a Convolutional Neural Network (CNN) to do image recognition. For this we will use the well-known CIFAR-10 dataset https://www.cs.toronto.edu/~kriz/cifar.html.\n",
        "\n",
        "The CIFAR-10 dataset consists of 60000 32x32 colour images in 10 classes, with 6000 images per class. There are 50000 training images and 10000 test images.\n",
        "\n",
        "We will first code the simple ConvNet described below using \n",
        "- tensorflow https://www.tensorflow.org\n",
        "\n",
        "then do the same using\n",
        "- keras : https://keras.io\n",
        "\n",
        "\n",
        "The input of the CNN is a set of (32,32,3) image tensors. We apply :\n",
        "\n",
        "    - a Convolutional layer of 32 filters of shape (3,3), with stride (1,1) and padding='same' (i.e. we do not apply zero-padding)\n",
        "    - a ReLu activation function\n",
        "    \n",
        "    - a Convolutional layer of 32 filters of shape (3,3), with stride (1,1) and padding='same' (i.e. we do not apply zero-padding)\n",
        "    - a ReLu activation function\n",
        "    - a Max Pooling Layer of shape (2,2) and stride (2,2) (i.e. we reduce by two the size in each dimension)\n",
        "    \n",
        "    - a Convolutional layer of 32 filters of shape (3,3), with stride (1,1) and padding='same' (i.e. we do not apply zero-padding)\n",
        "    - a ReLu activation function\n",
        "    - a Max Pooling Layer of shape (2,2) and stride (2,2) (i.e. we reduce by two the size in each dimension)\n",
        "    \n",
        "    - We then Flatten the data (reduce them to a vector in order to be able to apply a Fully-Connected layer to it)\n",
        "    - A softmax activation function which outputs are the $P(y_c | X)$ (multi-class problem)\n",
        "\n",
        "### Your task:\n",
        "You need to add the missing parts in the code (parts between # --- START CODE HERE and # --- END CODE HERE)"
      ]
    },
    {
      "cell_type": "markdown",
      "metadata": {
        "id": "i5vTycec_c28",
        "colab_type": "text"
      },
      "source": [
        "# Load packages"
      ]
    },
    {
      "cell_type": "code",
      "metadata": {
        "id": "6tVt1ILa_c2_",
        "colab_type": "code",
        "colab": {}
      },
      "source": [
        "%matplotlib inline\n",
        "import matplotlib.pyplot as plt\n",
        "import numpy as np"
      ],
      "execution_count": 0,
      "outputs": []
    },
    {
      "cell_type": "markdown",
      "metadata": {
        "id": "64tux6g4_c3H",
        "colab_type": "text"
      },
      "source": [
        "## Import data\n",
        "\n",
        "We first import CIFAR-10 dataset."
      ]
    },
    {
      "cell_type": "code",
      "metadata": {
        "id": "EWgiolJC_c3K",
        "colab_type": "code",
        "outputId": "e6e8ac91-ea86-4724-e180-674f720575f5",
        "colab": {
          "base_uri": "https://localhost:8080/",
          "height": 131
        }
      },
      "source": [
        "from keras.utils.np_utils import to_categorical\n",
        "\n",
        "from keras.datasets import cifar10\n",
        "(X_train, y_train), (X_test, y_test) = cifar10.load_data()\n",
        "\n",
        "print(X_train.shape)\n",
        "print(X_test.shape)\n",
        "print(np.unique(y_train))"
      ],
      "execution_count": 2,
      "outputs": [
        {
          "output_type": "stream",
          "text": [
            "Using TensorFlow backend.\n"
          ],
          "name": "stderr"
        },
        {
          "output_type": "display_data",
          "data": {
            "text/html": [
              "<p style=\"color: red;\">\n",
              "The default version of TensorFlow in Colab will soon switch to TensorFlow 2.x.<br>\n",
              "We recommend you <a href=\"https://www.tensorflow.org/guide/migrate\" target=\"_blank\">upgrade</a> now \n",
              "or ensure your notebook will continue to use TensorFlow 1.x via the <code>%tensorflow_version 1.x</code> magic:\n",
              "<a href=\"https://colab.research.google.com/notebooks/tensorflow_version.ipynb\" target=\"_blank\">more info</a>.</p>\n"
            ],
            "text/plain": [
              "<IPython.core.display.HTML object>"
            ]
          },
          "metadata": {
            "tags": []
          }
        },
        {
          "output_type": "stream",
          "text": [
            "(50000, 32, 32, 3)\n",
            "(10000, 32, 32, 3)\n",
            "[0 1 2 3 4 5 6 7 8 9]\n"
          ],
          "name": "stdout"
        }
      ]
    },
    {
      "cell_type": "markdown",
      "metadata": {
        "id": "ftpPoOu9_c3U",
        "colab_type": "text"
      },
      "source": [
        "The CIFAR-10 dataset has 10 classes. These are the following :"
      ]
    },
    {
      "cell_type": "code",
      "metadata": {
        "id": "oVhdr-hX_c3W",
        "colab_type": "code",
        "colab": {}
      },
      "source": [
        "cifar_10_list = [ 'airplane', 'automobile','bird','cat','deer','dog','frog','horse','ship','truck']"
      ],
      "execution_count": 0,
      "outputs": []
    },
    {
      "cell_type": "markdown",
      "metadata": {
        "id": "xzXyCJbK_c3c",
        "colab_type": "text"
      },
      "source": [
        "### Display some of the images"
      ]
    },
    {
      "cell_type": "code",
      "metadata": {
        "id": "ZqbSjkxQ_c3j",
        "colab_type": "code",
        "outputId": "9b8fa1c4-c45e-4492-960d-9e7c7f37d384",
        "colab": {
          "base_uri": "https://localhost:8080/",
          "height": 338
        }
      },
      "source": [
        "plt.figure(figsize=(10, 6))\n",
        "for idx,i in enumerate(range(100,110)):\n",
        "    plt.subplot(2, 5, idx+1)\n",
        "    plt.imshow(X_train[i, :, :, :])\n",
        "    plt.title(cifar_10_list[int(y_train[i])])"
      ],
      "execution_count": 4,
      "outputs": [
        {
          "output_type": "display_data",
          "data": {
            "image/png": "[encoded data removed]",
            "text/plain": [
              "<Figure size 720x432 with 10 Axes>"
            ]
          },
          "metadata": {
            "tags": []
          }
        }
      ]
    },
    {
      "cell_type": "code",
      "metadata": {
        "id": "4ta0E3Is_c3q",
        "colab_type": "code",
        "outputId": "79bdd8f1-0fb4-48e2-f1a5-9d9186906438",
        "colab": {
          "base_uri": "https://localhost:8080/",
          "height": 34
        }
      },
      "source": [
        "y_train.shape"
      ],
      "execution_count": 5,
      "outputs": [
        {
          "output_type": "execute_result",
          "data": {
            "text/plain": [
              "(50000, 1)"
            ]
          },
          "metadata": {
            "tags": []
          },
          "execution_count": 5
        }
      ]
    },
    {
      "cell_type": "markdown",
      "metadata": {
        "id": "qelUK7f1_c3x",
        "colab_type": "text"
      },
      "source": [
        "## Format conversion\n",
        "\n",
        "We now convert the format of the data. In the case of CNNs, and contrary to MLPs, the inputs are not simply vectors of arbitrary size. For example, in the case of images, it is important to distinguish the different dimensions (otherwise the network would not know how to carry out convolutions). Therefore, you need to carry out the following operation :\n",
        "\n",
        "- reshape the input ```X_train```and ```X_test``` to a set of matrices of size (32,32) and depth 3 (for the 3 R,G,B colors), convert the data to float32 and normalize them in the range [0,1]. The final dimensions of the image data should be : [batch_size, height, width, n_channels]\n",
        "\n",
        "Furthermore, as in the previous lab work, you must also convert the label vectors to matrices with k columns, where k is the number of classes. This allows us to carry out the cross-entropy for multi-class problems. Therefore :\n",
        "\n",
        "- convert the output label ```y_train``` and ```y_test``` to one-hot encoding format."
      ]
    },
    {
      "cell_type": "code",
      "metadata": {
        "id": "N18mmUIK_c3z",
        "colab_type": "code",
        "outputId": "da7e2567-ca10-43a4-f410-be67b7f91d7b",
        "colab": {
          "base_uri": "https://localhost:8080/",
          "height": 119
        }
      },
      "source": [
        "# input image dimensions\n",
        "img_rows, img_cols, nb_channels = 32, 32, 3\n",
        "nb_classes = 10\n",
        "\n",
        "# In case depth is 1 (black and white pictures) -> reshape to proper format\n",
        "X_train = X_train.reshape(X_train.shape[0], img_rows, img_cols, nb_channels)\n",
        "X_test = X_test.reshape(X_test.shape[0], img_rows, img_cols, nb_channels)\n",
        "\n",
        "X_train = X_train.astype('float32')\n",
        "X_test = X_test.astype('float32')\n",
        "X_train /= 255\n",
        "X_test /= 255\n",
        "\n",
        "Y_train = to_categorical(y_train)\n",
        "Y_test = to_categorical(y_test)\n",
        "\n",
        "print('X_train shape:', X_train.shape)\n",
        "print('y_train shape:', y_train.shape)\n",
        "print('Y_train shape:', Y_train.shape)\n",
        "print('There is {} train data'.format(X_train.shape[0]))\n",
        "print('There is {} test data'.format(X_test.shape[0]))\n",
        "print(img_rows, img_cols, nb_channels)"
      ],
      "execution_count": 6,
      "outputs": [
        {
          "output_type": "stream",
          "text": [
            "X_train shape: (50000, 32, 32, 3)\n",
            "y_train shape: (50000, 1)\n",
            "Y_train shape: (50000, 10)\n",
            "There is 50000 train data\n",
            "There is 10000 test data\n",
            "32 32 3\n"
          ],
          "name": "stdout"
        }
      ]
    },
    {
      "cell_type": "markdown",
      "metadata": {
        "id": "DmMR3ryD_c34",
        "colab_type": "text"
      },
      "source": [
        "For memory and speed reasons, we are going to reduce the amount of training data :"
      ]
    },
    {
      "cell_type": "code",
      "metadata": {
        "id": "TAWLQPHD_c37",
        "colab_type": "code",
        "outputId": "4977219d-0a94-4b7b-83db-3aed43953578",
        "colab": {
          "base_uri": "https://localhost:8080/",
          "height": 51
        }
      },
      "source": [
        "n_train_samples = 10000\n",
        "X_train = X_train[0:n_train_samples,:,:,:]\n",
        "Y_train = Y_train[0:n_train_samples,:]\n",
        "print(X_train.shape)\n",
        "print(Y_train.shape)"
      ],
      "execution_count": 7,
      "outputs": [
        {
          "output_type": "stream",
          "text": [
            "(10000, 32, 32, 3)\n",
            "(10000, 10)\n"
          ],
          "name": "stdout"
        }
      ]
    },
    {
      "cell_type": "markdown",
      "metadata": {
        "id": "6n0xbwrY_c4C",
        "colab_type": "text"
      },
      "source": [
        "# 1. CNN with tensorflow\n",
        "\n",
        "We are now going to create a CNN with Tensorflow, and train it on the previously loaded CIFAR dataset.\n",
        "- First define the input and output using ```tf.placeholder```\n",
        "- Define the weights and biases of the CNN using ```tf.variable``` or ```tf.get_variable```\n",
        "    - You can initialize them using ```tf.contrib.layers.xavier_initializer```(see https://www.tensorflow.org/api_docs/python/tf/contrib/layers/xavier_initializer)\n",
        "- Perform the convolution using ```tf.nn.conv2d``` \n",
        "- Apply the activation function using ```tf.nn.relu```\n",
        "- Perform the max pooling using ```tf.nn.max_pool```\n",
        "- Flatten the output of the convolution using ```tf.contrib.layers.flatten```\n",
        "- Perform the Fully-Connected part using ```tf.contrib.layers.fully_connected```\n",
        "\n",
        "Also, note that in Tensorflow, you can carry out the softmax + cross entropy all in one step with the following function :\n",
        "\n",
        "- ```tf.nn.softmax_cross_entropy_with_logits()```\n",
        "\n",
        "This has the advantage of being optimised and stabilised by the programmers who wrote Tensorflow, so that you do not have numerical problems.\n",
        "\n",
        "$\\textbf{IMPORTANT NOTE}$ : Please note that this part in Tensorflow is just so that you have had some experience with CNNs in Tensorflow. So do not spend a lot of time trying to get great accuracy results. If you want to do this, do it in the Keras part."
      ]
    },
    {
      "cell_type": "code",
      "metadata": {
        "id": "a-cbMIXE_c4D",
        "colab_type": "code",
        "colab": {}
      },
      "source": [
        "import tensorflow as tf\n",
        "\n",
        "learning_rate = 0.01\n",
        "n_epochs = 20\n",
        "batch_size = 64\n",
        "\n",
        "# number of convolutional filters to use\n",
        "nb_filters = 32\n",
        "# convolution kernel size\n",
        "kernel_size = (3, 3)\n",
        "# size of pooling area for max pooling\n",
        "pool_size = (2, 2)\n",
        "\n",
        "\n",
        "# --- Size of the successice layers\n",
        "n_h_0 = nb_channels\n",
        "n_h_1 = nb_filters\n",
        "n_h_2 = nb_filters\n",
        "n_h_3 = nb_filters"
      ],
      "execution_count": 0,
      "outputs": []
    },
    {
      "cell_type": "code",
      "metadata": {
        "id": "6n1ZzNmy_c4J",
        "colab_type": "code",
        "outputId": "3741ee7f-e273-4062-a8e4-3576d8f37ff5",
        "colab": {
          "base_uri": "https://localhost:8080/",
          "height": 411
        }
      },
      "source": [
        "tf.reset_default_graph()\n",
        "\n",
        "# input tensor are of shape [batch, in_height, in_width, in_channels]  \n",
        "# filter / kernel tensor are of shape [filter_height, filter_width, in_channels, out_channels]\n",
        "\n",
        "# --- START CODE HERE\n",
        "\n",
        "# declaration inputs and ouputs\n",
        "X_input = tf.placeholder(tf.float32, [None, 32, 32, n_h_0])\n",
        "Y_output = tf.placeholder(tf.float32, [None, nb_classes])\n",
        "\n",
        "# weights \n",
        "W1 = tf.get_variable(\"W1\", shape=[kernel_size[0], kernel_size[1], n_h_0, n_h_1], initializer=tf.contrib.layers.xavier_initializer(seed=0))\n",
        "W2 = tf.get_variable(\"W2\", shape=[kernel_size[0], kernel_size[1], n_h_1, n_h_2], initializer=tf.contrib.layers.xavier_initializer(seed=0))\n",
        "W3 = tf.get_variable(\"W3\", shape=[kernel_size[0], kernel_size[1], n_h_2, n_h_3], initializer=tf.contrib.layers.xavier_initializer(seed=0))\n",
        "\n",
        "# biais\n",
        "b1 = tf.get_variable(\"b1\", shape=[n_h_1], initializer=tf.contrib.layers.xavier_initializer(seed=0))\n",
        "b2 = tf.get_variable(\"b2\", shape=[n_h_2], initializer=tf.contrib.layers.xavier_initializer(seed=0))\n",
        "b3 = tf.get_variable(\"b3\", shape=[n_h_3], initializer=tf.contrib.layers.xavier_initializer(seed=0))\n",
        "\n",
        "# models\n",
        "\n",
        "# convolution 1 \n",
        "Z1 = tf.nn.conv2d(input=X_input, filter=W1, strides=[1, 1, 1, 1], padding='SAME')\n",
        "A1 = tf.nn.relu(Z1 + b1)\n",
        "\n",
        "# convolution 2 \n",
        "Z2 = tf.nn.conv2d(input=A1, filter=W2, strides=[1, 1, 1, 1], padding='SAME')\n",
        "A2 = tf.nn.relu(Z2 + b2)\n",
        "P2 = tf.nn.max_pool(A2, ksize=[1, pool_size[0], pool_size[0], 1], strides=[1, pool_size[0], pool_size[0], 1], padding='SAME')    \n",
        "\n",
        "# convolution 3\n",
        "Z3 = tf.nn.conv2d(input=P2, filter=W3, strides=[1, 1, 1, 1], padding='SAME')\n",
        "A3 = tf.nn.relu(Z3 + b3)\n",
        "P3 = tf.nn.max_pool(A3, ksize=[1, pool_size[0], pool_size[0], 1], strides=[1, pool_size[0], pool_size[0], 1], padding='SAME')    \n",
        "\n",
        "# predictions\n",
        "P3_fla = tf.contrib.layers.flatten(P3)\n",
        "Z4 = tf.contrib.layers.fully_connected(inputs=P3_fla, num_outputs=nb_classes, activation_fn=None)\n",
        "   \n",
        "# --- END CODE HERE\n",
        "\n",
        "cost = tf.reduce_mean(tf.nn.softmax_cross_entropy_with_logits(logits = Z4, labels = Y_output))\n",
        "optimizer = tf.train.AdamOptimizer(learning_rate = learning_rate).minimize(cost)"
      ],
      "execution_count": 9,
      "outputs": [
        {
          "output_type": "stream",
          "text": [
            "WARNING:tensorflow:\n",
            "The TensorFlow contrib module will not be included in TensorFlow 2.0.\n",
            "For more information, please see:\n",
            "  * https://github.com/tensorflow/community/blob/master/rfcs/20180907-contrib-sunset.md\n",
            "  * https://github.com/tensorflow/addons\n",
            "  * https://github.com/tensorflow/io (for I/O related ops)\n",
            "If you depend on functionality not listed there, please file an issue.\n",
            "\n",
            "WARNING:tensorflow:From /usr/local/lib/python3.6/dist-packages/tensorflow_core/contrib/layers/python/layers/layers.py:1634: flatten (from tensorflow.python.layers.core) is deprecated and will be removed in a future version.\n",
            "Instructions for updating:\n",
            "Use keras.layers.flatten instead.\n",
            "WARNING:tensorflow:From /usr/local/lib/python3.6/dist-packages/tensorflow_core/python/layers/core.py:332: Layer.apply (from tensorflow.python.keras.engine.base_layer) is deprecated and will be removed in a future version.\n",
            "Instructions for updating:\n",
            "Please use `layer.__call__` method instead.\n",
            "WARNING:tensorflow:From <ipython-input-9-116ba9a6c876>:44: softmax_cross_entropy_with_logits (from tensorflow.python.ops.nn_ops) is deprecated and will be removed in a future version.\n",
            "Instructions for updating:\n",
            "\n",
            "Future major versions of TensorFlow will allow gradients to flow\n",
            "into the labels input on backprop by default.\n",
            "\n",
            "See `tf.nn.softmax_cross_entropy_with_logits_v2`.\n",
            "\n"
          ],
          "name": "stdout"
        }
      ]
    },
    {
      "cell_type": "markdown",
      "metadata": {
        "id": "h-IJPrT8_c4R",
        "colab_type": "text"
      },
      "source": [
        "## Train the model"
      ]
    },
    {
      "cell_type": "code",
      "metadata": {
        "id": "33jQXq0y_c4S",
        "colab_type": "code",
        "outputId": "59731da2-f439-4a23-afaf-94b7d7aeb6e5",
        "colab": {
          "base_uri": "https://localhost:8080/",
          "height": 686
        }
      },
      "source": [
        "init = tf.global_variables_initializer()\n",
        "n_batches = int(np.ceil(X_train.shape[0] / float(batch_size)))\n",
        "costs = []\n",
        "\n",
        "with tf.Session() as sess:\n",
        "    sess.run(init)\n",
        "    \n",
        "    for epoch in range(n_epochs):\n",
        "        minibatch_cost = 0.\n",
        "        \n",
        "        for batch_idx in range(n_batches):\n",
        "            # BEGIN CODE HERE\n",
        "            batch_x = X_train[batch_idx * batch_size:min((batch_idx +1) * batch_size, len(X_train))]\n",
        "            batch_y = Y_train[batch_idx * batch_size:min((batch_idx +1) * batch_size, len(Y_train))]\n",
        "\n",
        "            _ , temp_cost = sess.run([optimizer, cost], feed_dict={X_input:batch_x, Y_output:batch_y})\n",
        "            # END CODE HERE\n",
        "            minibatch_cost += temp_cost / n_batches\n",
        "\n",
        "        if epoch % 1 == 0:\n",
        "            print (\"Cost after epoch %i: %f\" % (epoch, minibatch_cost))\n",
        "            \n",
        "        costs.append(minibatch_cost) \n",
        "        \n",
        "    plt.plot(np.squeeze(costs))\n",
        "    plt.ylabel('cost')\n",
        "    plt.xlabel('iterations (per tens)')\n",
        "    plt.title(\"Learning rate =\" + str(learning_rate))\n",
        "    plt.show()\n",
        "\n",
        "    # Calculate the correct predictions\n",
        "    predict_op = tf.argmax(Z4, 1)\n",
        "    correct_prediction = tf.equal(predict_op, tf.argmax(Y_output, 1))\n",
        "\n",
        "    # Calculate accuracy on the test set\n",
        "    accuracy = tf.reduce_mean(tf.cast(correct_prediction, \"float\"))\n",
        "    print(accuracy)\n",
        "    train_accuracy = accuracy.eval({X_input: X_train, Y_output: Y_train})\n",
        "    test_accuracy = accuracy.eval({X_input: X_test, Y_output: Y_test})\n",
        "    print(\"Train Accuracy:\", train_accuracy)\n",
        "    print(\"Test Accuracy:\", test_accuracy)\n",
        "    \n"
      ],
      "execution_count": 10,
      "outputs": [
        {
          "output_type": "stream",
          "text": [
            "Cost after epoch 0: 2.178378\n",
            "Cost after epoch 1: 1.798284\n",
            "Cost after epoch 2: 1.669836\n",
            "Cost after epoch 3: 1.609294\n",
            "Cost after epoch 4: 1.557942\n",
            "Cost after epoch 5: 1.527052\n",
            "Cost after epoch 6: 1.502595\n",
            "Cost after epoch 7: 1.477414\n",
            "Cost after epoch 8: 1.436507\n",
            "Cost after epoch 9: 1.389979\n",
            "Cost after epoch 10: 1.374109\n",
            "Cost after epoch 11: 1.369690\n",
            "Cost after epoch 12: 1.316526\n",
            "Cost after epoch 13: 1.275850\n",
            "Cost after epoch 14: 1.239635\n",
            "Cost after epoch 15: 1.206644\n",
            "Cost after epoch 16: 1.196357\n",
            "Cost after epoch 17: 1.178305\n",
            "Cost after epoch 18: 1.132993\n",
            "Cost after epoch 19: 1.142103\n"
          ],
          "name": "stdout"
        },
        {
          "output_type": "display_data",
          "data": {
            "image/png": "[encoded data removed]",
            "text/plain": [
              "<Figure size 432x288 with 1 Axes>"
            ]
          },
          "metadata": {
            "tags": []
          }
        },
        {
          "output_type": "stream",
          "text": [
            "Tensor(\"Mean_1:0\", shape=(), dtype=float32)\n",
            "Train Accuracy: 0.5886\n",
            "Test Accuracy: 0.4651\n"
          ],
          "name": "stdout"
        }
      ]
    },
    {
      "cell_type": "markdown",
      "metadata": {
        "id": "_jFU7QOk_c4Y",
        "colab_type": "text"
      },
      "source": [
        "The train accuracy after 20 epochs should be around 0.5. You do not have to push the training further than this, just make sure that the loss decreases and that the accuracy is reasonable. We will now create the same network in Keras."
      ]
    },
    {
      "cell_type": "markdown",
      "metadata": {
        "id": "4ILRk8Jf_c4b",
        "colab_type": "text"
      },
      "source": [
        "# 2. CNN with keras"
      ]
    },
    {
      "cell_type": "markdown",
      "metadata": {
        "id": "E1l7Dwdg_c4e",
        "colab_type": "text"
      },
      "source": [
        "We are now going to create the same network with Keras. As we shall see, the interface is quite simplified in comparison to Tensorflow.\n",
        "\n",
        "## We first import keras packages"
      ]
    },
    {
      "cell_type": "code",
      "metadata": {
        "id": "9Apd9Vd4_c4g",
        "colab_type": "code",
        "outputId": "c3740510-c7a7-4b88-b1af-0781bb557bd5",
        "colab": {
          "base_uri": "https://localhost:8080/",
          "height": 34
        }
      },
      "source": [
        "import keras\n",
        "from keras.models import Sequential, Model\n",
        "from keras.layers import Dense, Dropout, Activation, Flatten, Input\n",
        "from keras.layers import Conv2D, MaxPooling2D\n",
        "from keras import optimizers\n",
        "print(keras.__version__)"
      ],
      "execution_count": 11,
      "outputs": [
        {
          "output_type": "stream",
          "text": [
            "2.2.5\n"
          ],
          "name": "stdout"
        }
      ]
    },
    {
      "cell_type": "markdown",
      "metadata": {
        "id": "cZ7xlSVX_c4o",
        "colab_type": "text"
      },
      "source": [
        "## We define the parameters of the model, and of the training"
      ]
    },
    {
      "cell_type": "code",
      "metadata": {
        "id": "ZvGiun3x_c4r",
        "colab_type": "code",
        "colab": {}
      },
      "source": [
        "input_shape = (img_rows, img_cols, nb_channels)"
      ],
      "execution_count": 0,
      "outputs": []
    },
    {
      "cell_type": "markdown",
      "metadata": {
        "id": "4696GFXY_c4z",
        "colab_type": "text"
      },
      "source": [
        "## Creating the CNN model in Keras using the Sequential API\n",
        "\n",
        "Keras has a simple way of adding layers to create a neural network. First, you can indicate to Keras that the model is 'sequential', that is to say, a straight-forward CNN. For this, you can use the following function :\n",
        "- ```model = Sequential()```\n",
        "\n",
        "After this, you can add layers with the function.\n",
        "\n",
        "- ```model.add()```\n",
        "\n",
        "You can then use the ```Conv2D```, ```Activation```, ```MaxPooling2D```, ```Flatten``` and ```Dense``` (fully connected) functions to specify different layer types. Note that in the case of this approach, you will have to specify the input image size in the first layer of the network. So, for example, if the first layer is convolutional :\n",
        "\n",
        "- model = Sequential()\n",
        "- model.add(Conv2D(nb_filters, kernel_size, input_shape=input_shape, name='Conv1'))\n",
        "\n",
        "\n",
        "## Creating the CNN model in Keras using the standard API\n",
        "\n",
        "Otherwise, another approach to creating the model is to explicitly create the input variable, and just cascade the different functions, as in Tensorflow. So, for the same example, we would have :\n",
        "\n",
        "- input = Input(shape=(img_rows,img_cols,nb_channels))\n",
        "- output = Conv2D(input_shape=self.img_shape,filters=nb_filters,kernel_size=kernel_size)(input)\n",
        "- model = Model(input, output)\n",
        "\n",
        "Create your CNN now with the network parameters specified above."
      ]
    },
    {
      "cell_type": "code",
      "metadata": {
        "id": "_OGbYKcV_c41",
        "colab_type": "code",
        "outputId": "48791553-5f03-4dfd-ca19-e365dd532d39",
        "colab": {
          "base_uri": "https://localhost:8080/",
          "height": 105
        }
      },
      "source": [
        "# --- START CODE HERE\n",
        "\n",
        "# Sequential API\n",
        "model = Sequential()\n",
        "\n",
        "model.add(Conv2D(nb_filters, kernel_size, padding='same', input_shape=input_shape, name='conv1'))\n",
        "model.add(Activation('relu', name='relu1'))\n",
        "\n",
        "\n",
        "model.add(Conv2D(nb_filters, kernel_size, padding='same', name='conv2'))\n",
        "model.add(Activation('relu', name='relu2'))\n",
        "model.add(MaxPooling2D(pool_size=pool_size, name='maxpool2'))\n",
        "\n",
        "model.add(Conv2D(nb_filters, kernel_size, padding='same', name='conv3'))  \n",
        "model.add(Activation('relu', name='relu3'))\n",
        "model.add(MaxPooling2D(pool_size=pool_size, name='maxpool3'))\n",
        "\n",
        "model.add(Conv2D(nb_filters, kernel_size, padding='same', name='conv4')) \n",
        "model.add(Activation('relu', name='relu4'))\n",
        "model.add(MaxPooling2D(pool_size=pool_size, name='maxpool4'))\n",
        "\n",
        "model.add(Flatten(name='flatten'))\n",
        "model.add(Dense(nb_classes, name='dense'))\n",
        "model.add(Activation('softmax', name='softmax'))\n",
        "\n",
        "# standard API\n",
        "input_1 = Input(shape=(img_rows,img_cols,nb_channels))\n",
        "input_2 = Conv2D(filters=n_h_1, kernel_size=[kernel_size[0], kernel_size[1]])(input_1)\n",
        "input_3 = Activation('relu')(input_2)\n",
        "\n",
        "input_4 = Conv2D(filters=n_h_2,kernel_size=[kernel_size[0], kernel_size[1]])(input_3)\n",
        "input_5 = Activation('relu')(input_4)\n",
        "input_6 = MaxPooling2D(pool_size=pool_size)(input_5)\n",
        "\n",
        "input_7 = Conv2D(filters=n_h_2,kernel_size=[kernel_size[0], kernel_size[1]])(input_6)\n",
        "input_8 = Activation('relu')(input_7)\n",
        "input_9 = MaxPooling2D(pool_size=pool_size)(input_8)\n",
        "\n",
        "input_10 = Flatten()(input_9)\n",
        "input_11 = Dense(Y_train.shape[1])(input_10)\n",
        "output = Activation('softmax')(input_11)\n",
        "model = Model(input_1, output)\n",
        "\n",
        "# --- END CODE HERE"
      ],
      "execution_count": 13,
      "outputs": [
        {
          "output_type": "stream",
          "text": [
            "WARNING:tensorflow:From /usr/local/lib/python3.6/dist-packages/keras/backend/tensorflow_backend.py:66: The name tf.get_default_graph is deprecated. Please use tf.compat.v1.get_default_graph instead.\n",
            "\n",
            "WARNING:tensorflow:From /usr/local/lib/python3.6/dist-packages/keras/backend/tensorflow_backend.py:4432: The name tf.random_uniform is deprecated. Please use tf.random.uniform instead.\n",
            "\n"
          ],
          "name": "stdout"
        }
      ]
    },
    {
      "cell_type": "code",
      "metadata": {
        "id": "j178BoHoXhCj",
        "colab_type": "code",
        "colab": {}
      },
      "source": [
        "from keras.callbacks import ModelCheckpoint\n",
        "checkpoint = ModelCheckpoint('best_model_simple.h5',  # model filename\n",
        "                             monitor='val_loss', # quantity to monitor\n",
        "                             verbose=0, \n",
        "                             save_best_only= True, # The latest best model will not be overwritten\n",
        "                             mode='auto') # The decision to overwrite model is made \n",
        "                                          # automatically depending on the quantity to monitor"
      ],
      "execution_count": 0,
      "outputs": []
    },
    {
      "cell_type": "markdown",
      "metadata": {
        "id": "BT72sS8b_c4-",
        "colab_type": "text"
      },
      "source": [
        "## Compile the model\n",
        "\n",
        "We define here the ```loss``` that we will minimize and the ```optimizer``` (the specific algorithm used to perform gradient descent)."
      ]
    },
    {
      "cell_type": "code",
      "metadata": {
        "id": "0n54NHtY_c5B",
        "colab_type": "code",
        "outputId": "713f24c0-d80e-45da-c2f2-1243b58f3a50",
        "colab": {
          "base_uri": "https://localhost:8080/",
          "height": 105
        }
      },
      "source": [
        "model.compile(loss='categorical_crossentropy',\n",
        "              optimizer=optimizers.Adam(lr=learning_rate),\n",
        "              metrics=['accuracy'])\n"
      ],
      "execution_count": 15,
      "outputs": [
        {
          "output_type": "stream",
          "text": [
            "WARNING:tensorflow:From /usr/local/lib/python3.6/dist-packages/keras/optimizers.py:793: The name tf.train.Optimizer is deprecated. Please use tf.compat.v1.train.Optimizer instead.\n",
            "\n",
            "WARNING:tensorflow:From /usr/local/lib/python3.6/dist-packages/keras/backend/tensorflow_backend.py:3576: The name tf.log is deprecated. Please use tf.math.log instead.\n",
            "\n"
          ],
          "name": "stdout"
        }
      ]
    },
    {
      "cell_type": "markdown",
      "metadata": {
        "id": "w4dcA7Rr_c5Q",
        "colab_type": "text"
      },
      "source": [
        "## We display a summary of the model created (but not yet trained)"
      ]
    },
    {
      "cell_type": "code",
      "metadata": {
        "id": "ZFmN_pYE_c5T",
        "colab_type": "code",
        "outputId": "879dda5c-e7c8-48cc-b72a-b2e4a0f5cf04",
        "colab": {
          "base_uri": "https://localhost:8080/",
          "height": 561
        }
      },
      "source": [
        "model.summary()"
      ],
      "execution_count": 16,
      "outputs": [
        {
          "output_type": "stream",
          "text": [
            "Model: \"model_1\"\n",
            "_________________________________________________________________\n",
            "Layer (type)                 Output Shape              Param #   \n",
            "=================================================================\n",
            "input_1 (InputLayer)         (None, 32, 32, 3)         0         \n",
            "_________________________________________________________________\n",
            "conv2d_1 (Conv2D)            (None, 30, 30, 32)        896       \n",
            "_________________________________________________________________\n",
            "activation_1 (Activation)    (None, 30, 30, 32)        0         \n",
            "_________________________________________________________________\n",
            "conv2d_2 (Conv2D)            (None, 28, 28, 32)        9248      \n",
            "_________________________________________________________________\n",
            "activation_2 (Activation)    (None, 28, 28, 32)        0         \n",
            "_________________________________________________________________\n",
            "max_pooling2d_1 (MaxPooling2 (None, 14, 14, 32)        0         \n",
            "_________________________________________________________________\n",
            "conv2d_3 (Conv2D)            (None, 12, 12, 32)        9248      \n",
            "_________________________________________________________________\n",
            "activation_3 (Activation)    (None, 12, 12, 32)        0         \n",
            "_________________________________________________________________\n",
            "max_pooling2d_2 (MaxPooling2 (None, 6, 6, 32)          0         \n",
            "_________________________________________________________________\n",
            "flatten_1 (Flatten)          (None, 1152)              0         \n",
            "_________________________________________________________________\n",
            "dense_1 (Dense)              (None, 10)                11530     \n",
            "_________________________________________________________________\n",
            "activation_4 (Activation)    (None, 10)                0         \n",
            "=================================================================\n",
            "Total params: 30,922\n",
            "Trainable params: 30,922\n",
            "Non-trainable params: 0\n",
            "_________________________________________________________________\n"
          ],
          "name": "stdout"
        }
      ]
    },
    {
      "cell_type": "markdown",
      "metadata": {
        "id": "myH3tAqg_c5h",
        "colab_type": "text"
      },
      "source": [
        "## Perform the training"
      ]
    },
    {
      "cell_type": "code",
      "metadata": {
        "id": "bCDUaviJ_c5q",
        "colab_type": "code",
        "outputId": "386da80e-1ef9-42dd-ef44-c0f86a2508e7",
        "colab": {
          "base_uri": "https://localhost:8080/",
          "height": 1000
        }
      },
      "source": [
        "model.fit(X_train, Y_train,\n",
        "          batch_size=batch_size, \n",
        "          nb_epoch=n_epochs,\n",
        "          verbose=1, \n",
        "          validation_data=(X_test, Y_test),\n",
        "          callbacks=[checkpoint])"
      ],
      "execution_count": 17,
      "outputs": [
        {
          "output_type": "stream",
          "text": [
            "WARNING:tensorflow:From /usr/local/lib/python3.6/dist-packages/tensorflow_core/python/ops/math_grad.py:1424: where (from tensorflow.python.ops.array_ops) is deprecated and will be removed in a future version.\n",
            "Instructions for updating:\n",
            "Use tf.where in 2.0, which has the same broadcast rule as np.where\n",
            "WARNING:tensorflow:From /usr/local/lib/python3.6/dist-packages/keras/backend/tensorflow_backend.py:1033: The name tf.assign_add is deprecated. Please use tf.compat.v1.assign_add instead.\n",
            "\n"
          ],
          "name": "stdout"
        },
        {
          "output_type": "stream",
          "text": [
            "/usr/local/lib/python3.6/dist-packages/ipykernel_launcher.py:6: UserWarning: The `nb_epoch` argument in `fit` has been renamed `epochs`.\n",
            "  \n"
          ],
          "name": "stderr"
        },
        {
          "output_type": "stream",
          "text": [
            "WARNING:tensorflow:From /usr/local/lib/python3.6/dist-packages/keras/backend/tensorflow_backend.py:1020: The name tf.assign is deprecated. Please use tf.compat.v1.assign instead.\n",
            "\n",
            "Train on 10000 samples, validate on 10000 samples\n",
            "Epoch 1/20\n",
            "WARNING:tensorflow:From /usr/local/lib/python3.6/dist-packages/keras/backend/tensorflow_backend.py:190: The name tf.get_default_session is deprecated. Please use tf.compat.v1.get_default_session instead.\n",
            "\n",
            "WARNING:tensorflow:From /usr/local/lib/python3.6/dist-packages/keras/backend/tensorflow_backend.py:197: The name tf.ConfigProto is deprecated. Please use tf.compat.v1.ConfigProto instead.\n",
            "\n",
            "WARNING:tensorflow:From /usr/local/lib/python3.6/dist-packages/keras/backend/tensorflow_backend.py:207: The name tf.global_variables is deprecated. Please use tf.compat.v1.global_variables instead.\n",
            "\n",
            "WARNING:tensorflow:From /usr/local/lib/python3.6/dist-packages/keras/backend/tensorflow_backend.py:216: The name tf.is_variable_initialized is deprecated. Please use tf.compat.v1.is_variable_initialized instead.\n",
            "\n",
            "WARNING:tensorflow:From /usr/local/lib/python3.6/dist-packages/keras/backend/tensorflow_backend.py:223: The name tf.variables_initializer is deprecated. Please use tf.compat.v1.variables_initializer instead.\n",
            "\n",
            "10000/10000 [==============================] - 41s 4ms/step - loss: 2.2446 - acc: 0.1664 - val_loss: 2.0780 - val_acc: 0.2626\n",
            "Epoch 2/20\n",
            "10000/10000 [==============================] - 41s 4ms/step - loss: 1.9706 - acc: 0.2808 - val_loss: 1.8920 - val_acc: 0.3074\n",
            "Epoch 3/20\n",
            "10000/10000 [==============================] - 41s 4ms/step - loss: 1.8334 - acc: 0.3379 - val_loss: 1.7631 - val_acc: 0.3574\n",
            "Epoch 4/20\n",
            "10000/10000 [==============================] - 40s 4ms/step - loss: 1.7277 - acc: 0.3840 - val_loss: 1.7220 - val_acc: 0.3793\n",
            "Epoch 5/20\n",
            "10000/10000 [==============================] - 41s 4ms/step - loss: 1.6561 - acc: 0.4048 - val_loss: 1.6851 - val_acc: 0.3894\n",
            "Epoch 6/20\n",
            "10000/10000 [==============================] - 41s 4ms/step - loss: 1.6056 - acc: 0.4285 - val_loss: 1.6318 - val_acc: 0.4202\n",
            "Epoch 7/20\n",
            "10000/10000 [==============================] - 41s 4ms/step - loss: 1.5272 - acc: 0.4618 - val_loss: 1.5943 - val_acc: 0.4244\n",
            "Epoch 8/20\n",
            "10000/10000 [==============================] - 41s 4ms/step - loss: 1.4563 - acc: 0.4888 - val_loss: 1.6090 - val_acc: 0.4330\n",
            "Epoch 9/20\n",
            "10000/10000 [==============================] - 40s 4ms/step - loss: 1.4500 - acc: 0.4909 - val_loss: 1.5879 - val_acc: 0.4344\n",
            "Epoch 10/20\n",
            "10000/10000 [==============================] - 41s 4ms/step - loss: 1.4114 - acc: 0.5035 - val_loss: 1.5232 - val_acc: 0.4650\n",
            "Epoch 11/20\n",
            "10000/10000 [==============================] - 41s 4ms/step - loss: 1.3971 - acc: 0.5124 - val_loss: 1.4690 - val_acc: 0.4842\n",
            "Epoch 12/20\n",
            "10000/10000 [==============================] - 41s 4ms/step - loss: 1.3826 - acc: 0.5184 - val_loss: 1.5522 - val_acc: 0.4565\n",
            "Epoch 13/20\n",
            "10000/10000 [==============================] - 41s 4ms/step - loss: 1.3503 - acc: 0.5302 - val_loss: 1.5648 - val_acc: 0.4561\n",
            "Epoch 14/20\n",
            "10000/10000 [==============================] - 41s 4ms/step - loss: 1.3594 - acc: 0.5227 - val_loss: 1.5127 - val_acc: 0.4680\n",
            "Epoch 15/20\n",
            "10000/10000 [==============================] - 41s 4ms/step - loss: 1.3303 - acc: 0.5320 - val_loss: 1.5733 - val_acc: 0.4493\n",
            "Epoch 16/20\n",
            "10000/10000 [==============================] - 41s 4ms/step - loss: 1.3691 - acc: 0.5205 - val_loss: 1.5204 - val_acc: 0.4694\n",
            "Epoch 17/20\n",
            "10000/10000 [==============================] - 41s 4ms/step - loss: 1.3419 - acc: 0.5363 - val_loss: 1.4850 - val_acc: 0.4778\n",
            "Epoch 18/20\n",
            "10000/10000 [==============================] - 41s 4ms/step - loss: 1.3353 - acc: 0.5361 - val_loss: 1.5051 - val_acc: 0.4772\n",
            "Epoch 19/20\n",
            "10000/10000 [==============================] - 41s 4ms/step - loss: 1.3262 - acc: 0.5413 - val_loss: 1.4951 - val_acc: 0.4755\n",
            "Epoch 20/20\n",
            "10000/10000 [==============================] - 41s 4ms/step - loss: 1.3070 - acc: 0.5476 - val_loss: 1.4861 - val_acc: 0.4846\n"
          ],
          "name": "stdout"
        },
        {
          "output_type": "execute_result",
          "data": {
            "text/plain": [
              "<keras.callbacks.History at 0x7f007034ec18>"
            ]
          },
          "metadata": {
            "tags": []
          },
          "execution_count": 17
        }
      ]
    },
    {
      "cell_type": "markdown",
      "metadata": {
        "id": "0JUEJ4ij_c6O",
        "colab_type": "text"
      },
      "source": [
        "## We evaluate the performances of the model on the test data"
      ]
    },
    {
      "cell_type": "code",
      "metadata": {
        "id": "IY9Uq6_F_c6c",
        "colab_type": "code",
        "outputId": "93d874d2-fecc-4c91-f9ca-e2ca512aea00",
        "colab": {
          "base_uri": "https://localhost:8080/",
          "height": 51
        }
      },
      "source": [
        "score = model.evaluate(X_test, Y_test, verbose=False)\n",
        "print('Test score:', score[0])\n",
        "print('Test accuracy:', score[1])"
      ],
      "execution_count": 21,
      "outputs": [
        {
          "output_type": "stream",
          "text": [
            "Test score: 1.4860851020812988\n",
            "Test accuracy: 0.4846\n"
          ],
          "name": "stdout"
        }
      ]
    },
    {
      "cell_type": "markdown",
      "metadata": {
        "id": "C2Khqezl_c6x",
        "colab_type": "text"
      },
      "source": [
        "Let's take a look at what the network has learned. What do you think ?"
      ]
    },
    {
      "cell_type": "code",
      "metadata": {
        "id": "Sxzbtfo9_c62",
        "colab_type": "code",
        "outputId": "2c3824d3-1f1f-4539-dee1-baac0fb48111",
        "colab": {
          "base_uri": "https://localhost:8080/",
          "height": 338
        }
      },
      "source": [
        "plt.figure(figsize=(10, 6))\n",
        "for idx,i in enumerate(range(100,110)):\n",
        "    plt.subplot(2, 5, idx+1)\n",
        "    rand_ind = np.random.randint(0,X_test.shape[0])\n",
        "    predicted_class = np.argmax(np.squeeze(model.predict(np.expand_dims(X_test[rand_ind,:,:,:],axis=0))))\n",
        "    plt.imshow(X_test[rand_ind,:,:,:])\n",
        "    plt.title(cifar_10_list[int(predicted_class)])"
      ],
      "execution_count": 19,
      "outputs": [
        {
          "output_type": "display_data",
          "data": {
            "image/png": "[encoded data removed]",
            "text/plain": [
              "<Figure size 720x432 with 10 Axes>"
            ]
          },
          "metadata": {
            "tags": []
          }
        }
      ]
    },
    {
      "cell_type": "markdown",
      "metadata": {
        "id": "h9aKNLCd_c7C",
        "colab_type": "text"
      },
      "source": [
        "## Now, display all (32) trained filters of the first layer\n",
        "\n",
        "You can explore the network parameters easily with Keras. For example ```model.layers``` is a list of the layers of the network. Each element of the network contains the information necessary for this layer. To show the content of a layer i, type :\n",
        "\n",
        "```dir(model.layers[i])```\n",
        "\n",
        "Display all (32) trained filters of the first layer :"
      ]
    },
    {
      "cell_type": "code",
      "metadata": {
        "id": "YCzuvnVJ_c7F",
        "colab_type": "code",
        "outputId": "225fb025-effd-4b4f-e3d5-ec468f1ae1d0",
        "colab": {
          "base_uri": "https://localhost:8080/",
          "height": 425
        }
      },
      "source": [
        "print(model.layers[1].filters)\n",
        "print(model.layers[1].kernel_size)\n",
        "print(model.layers[1].get_weights()[0].shape)\n",
        "plt.figure(figsize=(10, 6))\n",
        "for num in range(0,32):\n",
        "    plt.subplot(8, 4, num+1)\n",
        "    # --- START CODE HERE\n",
        "    plt.imshow(model.layers[1].get_weights()[0][:,:,0,num])  \n",
        "    # --- END CODE HERE    "
      ],
      "execution_count": 20,
      "outputs": [
        {
          "output_type": "stream",
          "text": [
            "32\n",
            "(3, 3)\n",
            "(3, 3, 3, 32)\n"
          ],
          "name": "stdout"
        },
        {
          "output_type": "display_data",
          "data": {
            "image/png": "[encoded data removed]",
            "text/plain": [
              "<Figure size 720x432 with 32 Axes>"
            ]
          },
          "metadata": {
            "tags": []
          }
        }
      ]
    },
    {
      "cell_type": "markdown",
      "metadata": {
        "id": "hKceZKSl_c7a",
        "colab_type": "text"
      },
      "source": [
        "# Evaluation\n",
        "\n",
        "To evaluate the work, you should rate the code for \n",
        "- 1) Tensorflow, declaration of inputs and weights : 2 points\n",
        "- 2) Tensorflow, declaration of model : 2 points\n",
        "- 3) Tensorflow, training : 2 points\n",
        "- 4) Keras : model : 2 points\n",
        "- 5) Keras : displaying weights : 2 points\n",
        "\n",
        "Each correct answer (correct formula/code and code runs) gives 2 points. Total over 10 points."
      ]
    },
    {
      "cell_type": "code",
      "metadata": {
        "id": "owxAtmd6MT3M",
        "colab_type": "code",
        "colab": {}
      },
      "source": [
        ""
      ],
      "execution_count": 0,
      "outputs": []
    }
  ]
}